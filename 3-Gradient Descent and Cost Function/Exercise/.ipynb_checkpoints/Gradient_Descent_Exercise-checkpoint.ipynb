{
 "cells": [
  {
   "cell_type": "code",
   "execution_count": 1,
   "id": "371c7b33-bdbf-4a82-9729-3ee56929989d",
   "metadata": {},
   "outputs": [],
   "source": [
    "import pandas as pd\n",
    "import numpy as np"
   ]
  },
  {
   "cell_type": "code",
   "execution_count": 3,
   "id": "e2c266f4-56e3-43a6-a8cc-b7f421acc722",
   "metadata": {},
   "outputs": [],
   "source": [
    "#Reading the CSV file:\n",
    "main_df = pd.read_csv(r\"C:\\Users\\XERO_0000\\Desktop\\ML-Course_codebasics\\3-Gradient Descent and Cost Function\\Exercise\\test_scores.csv\")"
   ]
  },
  {
   "cell_type": "code",
   "execution_count": 9,
   "id": "fe580efd-a3aa-4f49-900c-7779c4119875",
   "metadata": {},
   "outputs": [],
   "source": [
    "#Importing the math and cs columns from main_df:\n",
    "math_column = main_df['math'].values\n",
    "cs_column = main_df['cs'].values"
   ]
  },
  {
   "cell_type": "code",
   "execution_count": 10,
   "id": "343045d1-756b-44b0-9ad4-6d2e2549b0f8",
   "metadata": {},
   "outputs": [],
   "source": [
    "#converting math and cs columns into lists:\n",
    "math_list = math_column.tolist()\n",
    "cs_list = cs_column.tolist()"
   ]
  },
  {
   "cell_type": "code",
   "execution_count": 15,
   "id": "241e8162-d78e-4375-97fa-077c2d340aae",
   "metadata": {},
   "outputs": [],
   "source": [
    "#convert math_column into x and cs_column into y:\n",
    "x = np.array(math_list)\n",
    "y = np.array(cs_list)"
   ]
  },
  {
   "cell_type": "code",
   "execution_count": 16,
   "id": "d823f4f7-2933-4eb3-afa8-5a339eda3288",
   "metadata": {},
   "outputs": [],
   "source": [
    "#Gradient Descent for m :\n",
    "#m_curr = m_curr - learning_rate(md)\n",
    "\n",
    "#Gradient Descent for b :\n",
    "#b_curr = b_curr - learning_rate(bd)"
   ]
  },
  {
   "cell_type": "code",
   "execution_count": 17,
   "id": "c7e5e03e-a7e9-47bf-9ae9-0ce691b75873",
   "metadata": {},
   "outputs": [],
   "source": [
    "#md equation :\n",
    "#md = -(2 / n) * sum(y - y_predicted)\n",
    "\n",
    "#bd equation :"
   ]
  },
  {
   "cell_type": "code",
   "execution_count": null,
   "id": "ce3207fd-5a36-4b5b-8e5a-98ae1618d8e4",
   "metadata": {},
   "outputs": [],
   "source": []
  }
 ],
 "metadata": {
  "kernelspec": {
   "display_name": "Python 3 (ipykernel)",
   "language": "python",
   "name": "python3"
  },
  "language_info": {
   "codemirror_mode": {
    "name": "ipython",
    "version": 3
   },
   "file_extension": ".py",
   "mimetype": "text/x-python",
   "name": "python",
   "nbconvert_exporter": "python",
   "pygments_lexer": "ipython3",
   "version": "3.12.3"
  }
 },
 "nbformat": 4,
 "nbformat_minor": 5
}
